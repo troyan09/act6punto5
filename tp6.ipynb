{
 "cells": [
  {
   "cell_type": "markdown",
   "metadata": {},
   "source": [
    "Punto 5 original:\n",
    "\n",
    "-Se cuenta la cantidad de veces que aparecen las provincias de \"Chubut\", \"Neuquen\" y \"Santa Cruz\"\n",
    "\n",
    "-Creando una variable para marcar las provincias  que te interesa contar llamada \"provincias\"\n",
    "\n",
    "-Se crea un diccionario \"conteo_provincias\", utilizando como claves los valores de \"provincias\"\n",
    "\n",
    "-Descompone y recorre por filas utilizando iterrows en el dataFrame\n",
    "\n",
    "-Si en la fila['Ubicación'] de row, se encuentra en las claves de conteo_provincias entonces suma en esa clave"
   ]
  },
  {
   "cell_type": "code",
   "execution_count": null,
   "metadata": {},
   "outputs": [],
   "source": [
    "import pandas as pd\n",
    "lagos = pd.read_csv('lagos_arg.csv')\n",
    "\n",
    "provincias = [\"Chubut\", \"Neuquén\", \"Santa Cruz\"]\n",
    "conteo_provincias = {provincia: 0 for provincia in provincias}\n",
    "\n",
    "for index, row in lagos.iterrows():\n",
    "    if row['Ubicación'] in conteo_provincias:\n",
    "        conteo_provincias[row['Ubicación']] += 1\n",
    "print(conteo_provincias)\n"
   ]
  },
  {
   "cell_type": "markdown",
   "metadata": {},
   "source": [
    "Codigo Nuevo\n"
   ]
  },
  {
   "cell_type": "code",
   "execution_count": null,
   "metadata": {},
   "outputs": [],
   "source": [
    "import pandas as pd\n",
    "lagos = pd.read_csv('hola\\lagos_arg.csv')\n",
    "#La lista de provincias que queremos contar\n",
    "provincias = [\"Chubut\", \"Neuquén\", \"Santa Cruz\"]\n",
    "#filtro en base a los valores unicos\n",
    "fil = lagos['Ubicación'].value_counts()\n",
    "#se filtra conservando unicamente los valores de provincias\n",
    "cont_prov = fil[fil.index.isin(provincias)]\n",
    "#Lo vuelvo un diccionario \n",
    "di_prov ={provincia: cont_prov.get(provincia,0) for provincia in provincias}\n",
    "\n",
    "print(di_prov)"
   ]
  },
  {
   "cell_type": "markdown",
   "metadata": {},
   "source": [
    "En esta vercion utilizo pandas para filtrar los valores que me interesan\n",
    "\n",
    "-Primero, utilizo value_counts(), para obtener la cantidad de veces que aparecen cada provincia en general\n",
    "\n",
    "-Segundo hago un nuevo filtrado, para quedarme solo con los valores de la lista \"provincias\", la variable resultante queda como uno de tipo serie\n",
    "\n",
    "-Por ultimo como convierto los valores a un diccionario "
   ]
  },
  {
   "cell_type": "markdown",
   "metadata": {},
   "source": [
    "¿Que mejoras tenemos?\n",
    "\n",
    "En este caso, se evita pasar fila por fila de todo el dataSet, con el resultado tenemos un tipo de dato serie con el índice como nombre de la provincia y como valor, sus cantidades\n",
    "pudiendo filtrar nuevamente las provincias que nos interesan que están en la lista \"provincias\", resumiendo el código original a 2 filtrados, ahora el volverlo un diccionario se resume de igual forma en una sola linea.\n",
    "\n",
    "¿Es más adecuado?\n",
    "\n",
    "Respuesta corta: Si\n",
    "\n",
    "Mucho Texto: El código original utiliza pandas solo para obtener el dataFrame, y para obtener los datos de interés, se hacen manualmente, mediante el \"for\" y el \"if\", pero en el nuevo\n",
    "utilizamos las herramientas que nos da pandas para poder hacer los filtrados con las funciones que ya tiene Pandas."
   ]
  }
 ],
 "metadata": {
  "language_info": {
   "name": "python"
  }
 },
 "nbformat": 4,
 "nbformat_minor": 2
}
