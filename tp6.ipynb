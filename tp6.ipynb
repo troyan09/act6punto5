{
 "cells": [
  {
   "cell_type": "markdown",
   "metadata": {},
   "source": [
    "Punto 5 original:\n",
    "\n",
    "-Se cuenta la cantidad de veces que aparecen las provincias de \"Chubut\", \"Neuquen\" y \"Santa Cruz\"\n",
    "\n",
    "-Creando una variable para marcar las proviancias que te interesa contar llamada \"provincias\"\n",
    "\n",
    "-Se crea un diccionario \"conteo_provincias\", utilizando como claves los valores de \"provincias\"\n",
    "\n",
    "-Descompone y recorre por filas utilizando iterrows en el dataFrame\n",
    "\n",
    "-Si en la fila['Ubicación'] de row, se encuentra en las clacez de conteo_provincias entonces suma en esa clave uno"
   ]
  },
  {
   "cell_type": "code",
   "execution_count": null,
   "metadata": {},
   "outputs": [],
   "source": [
    "import pandas as pd\n",
    "lagos = pd.read_csv('lagos_arg.csv')\n",
    "\n",
    "provincias = [\"Chubut\", \"Neuquén\", \"Santa Cruz\"]\n",
    "conteo_provincias = {provincia: 0 for provincia in provincias}\n",
    "\n",
    "for index, row in lagos.iterrows():\n",
    "    if row['Ubicación'] in conteo_provincias:\n",
    "        conteo_provincias[row['Ubicación']] += 1\n",
    "print(conteo_provincias)\n"
   ]
  },
  {
   "cell_type": "markdown",
   "metadata": {},
   "source": [
    "Codigo Nuevo\n"
   ]
  },
  {
   "cell_type": "code",
   "execution_count": null,
   "metadata": {},
   "outputs": [],
   "source": [
    "import pandas as pd\n",
    "lagos = pd.read_csv('hola\\lagos_arg.csv')\n",
    "\n",
    "provincias = [\"Chubut\", \"Neuquén\", \"Santa Cruz\"]\n",
    "fil = lagos['Ubicación'].value_counts()\n",
    "cont_prov = fil[fil.index.isin(provincias)]\n",
    "di_prov ={provincia: cont_prov.get(provincia,0) for provincia in provincias}\n",
    "\n",
    "print(di_prov)"
   ]
  },
  {
   "cell_type": "markdown",
   "metadata": {},
   "source": [
    "En esta vercion utilizo pandas para filtrar los valores que me interesan\n",
    "\n",
    "-Primero, utilizo value_counts(), para obtener la cantidad de veces que aparecen cada provincia en general\n",
    "\n",
    "-Segundo hago un nuevo filtrado, para quedarme solo con los valores de la lista \"provincias\"\n",
    "\n",
    "-Por ultimo convierto los valores a un diccionario "
   ]
  },
  {
   "cell_type": "markdown",
   "metadata": {},
   "source": []
  }
 ],
 "metadata": {
  "language_info": {
   "name": "python"
  }
 },
 "nbformat": 4,
 "nbformat_minor": 2
}
